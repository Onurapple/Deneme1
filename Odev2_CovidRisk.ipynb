{
  "nbformat": 4,
  "nbformat_minor": 0,
  "metadata": {
    "colab": {
      "name": "Odev2_CovidRisk.ipynb",
      "provenance": [],
      "collapsed_sections": [],
      "authorship_tag": "ABX9TyPbw3Oc4BrX3aZSkOdvgwb2",
      "include_colab_link": true
    },
    "kernelspec": {
      "name": "python3",
      "display_name": "Python 3"
    },
    "language_info": {
      "name": "python"
    }
  },
  "cells": [
    {
      "cell_type": "markdown",
      "metadata": {
        "id": "view-in-github",
        "colab_type": "text"
      },
      "source": [
        "<a href=\"https://colab.research.google.com/github/Onurapple/Deneme1/blob/main/Odev2_CovidRisk.ipynb\" target=\"_parent\"><img src=\"https://colab.research.google.com/assets/colab-badge.svg\" alt=\"Open In Colab\"/></a>"
      ]
    },
    {
      "cell_type": "code",
      "metadata": {
        "id": "HL1ST73sUOUV"
      },
      "source": [
        "age = input('Are you a cigarette addict older than 75 years old? (Yes/No):')\n",
        "\n",
        "chronic = input('Do you have a severe chronic disease? (Yes/No):')\n",
        "\n",
        "immune = input('Is your immune system too weak? (Yes/No):')\n",
        "\n",
        "if age.lower() == 'yes' or chronic.lower() == 'yes' or immune.lower() == 'yes':\n",
        "  print(\"You are in risky group\")\n",
        "else:\n",
        "  print(\"You are not in risky group\")\n"
      ],
      "execution_count": null,
      "outputs": []
    }
  ]
}