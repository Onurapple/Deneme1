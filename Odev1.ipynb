{
  "nbformat": 4,
  "nbformat_minor": 0,
  "metadata": {
    "colab": {
      "name": "Odev1.ipynb",
      "provenance": [],
      "authorship_tag": "ABX9TyPkaGJnQqyiCRFhCJ7ERfkS",
      "include_colab_link": true
    },
    "kernelspec": {
      "name": "python3",
      "display_name": "Python 3"
    },
    "language_info": {
      "name": "python"
    }
  },
  "cells": [
    {
      "cell_type": "markdown",
      "metadata": {
        "id": "view-in-github",
        "colab_type": "text"
      },
      "source": [
        "<a href=\"https://colab.research.google.com/github/Onurapple/Deneme1/blob/main/Odev1.ipynb\" target=\"_parent\"><img src=\"https://colab.research.google.com/assets/colab-badge.svg\" alt=\"Open In Colab\"/></a>"
      ]
    },
    {
      "cell_type": "code",
      "metadata": {
        "id": "z4nMs0ZT9Mpa"
      },
      "source": [
        "myname = \"Onur\"\n",
        "first_name = input(\"Please input your name to see the password= \")\n",
        "\n",
        "if first_name.title() == myname:\n",
        "  print(f\"Hello Onur! The password is: Pass@word.123\")\n",
        "else:\n",
        "  print(f\"Hello {first_name}! See you later.\")"
      ],
      "execution_count": null,
      "outputs": []
    }
  ]
}