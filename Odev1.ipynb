{
  "nbformat": 4,
  "nbformat_minor": 0,
  "metadata": {
    "colab": {
      "name": "Odev1.ipynb",
      "provenance": []
    },
    "kernelspec": {
      "name": "python3",
      "display_name": "Python 3"
    },
    "language_info": {
      "name": "python"
    }
  },
  "cells": [
    {
      "cell_type": "code",
      "metadata": {
        "id": "z4nMs0ZT9Mpa"
      },
      "source": [
        "myname = \"Onur\"\n",
        "first_name = input(\"Please input your name to see the password= \")\n",
        "\n",
        "if first_name.title() == myname:\n",
        "  print(f\"Hello Onur! The password is: Pass@word.123\")\n",
        "else:\n",
        "  print(f\"Hello {first_name}! See you later.\")"
      ],
      "execution_count": null,
      "outputs": []
    }
  ]
}